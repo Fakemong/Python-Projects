{
 "cells": [
  {
   "cell_type": "markdown",
   "metadata": {
    "id": "_NjsR-G54clo"
   },
   "source": [
    "# Home-Work :\n",
    "\n",
    "1. Create a Multiple Inheritance program using Inheritance.\n",
    "2. Create a quadrilateral class having four sides as instance variables and a perimeter() method , then create a Rectangle class as the derived class\n",
    "\n"
   ]
  },
  {
   "cell_type": "markdown",
   "metadata": {
    "id": "rJ3KWL4L8nYN"
   },
   "source": [
    "## Inheritance\n",
    "\n",
    "Inheritance is a powerful feature in object oriented programming.\n",
    "\n",
    "\n",
    "Inheritance is a **way of creating a new class for using details of an existing class without modifying it(or little modification)**. The *newly formed class* is a **derived class (or child class)**. Similarly, the *existing class is a base class (or parent class)*.\n",
    "\n",
    "* Inheritance allows us to define a class that inherits all the methods and properties from another class.\n",
    "\n",
    " * **Parent class** is the class being inherited from, also called base class.\n",
    "\n",
    " * **Child class** is the class that inherits from another class, also called derived class.\n",
    "\n",
    "Use the **super()** Function\n",
    "\n",
    "> Python also has a super() function that will make the child class inherit all the methods and properties from its parent:\n"
   ]
  },
  {
   "cell_type": "markdown",
   "metadata": {
    "id": "MRQs966vyXLK"
   },
   "source": [
    "### Python Inheritance Syntax"
   ]
  },
  {
   "cell_type": "code",
   "execution_count": null,
   "metadata": {
    "id": "Nl0JxmtQzCEz"
   },
   "outputs": [],
   "source": [
    "class BaseClass:\n",
    "  Body of base class\n",
    "  \n",
    "class DerivedClass(BaseClass):\n",
    "  Body of derived class"
   ]
  },
  {
   "cell_type": "markdown",
   "metadata": {
    "id": "rr5xu36UzNVD"
   },
   "source": [
    "Derived class inherits features from the base class where new features can be added to it. This results in re-usability of code.\n",
    "\n"
   ]
  },
  {
   "cell_type": "code",
   "execution_count": null,
   "metadata": {
    "id": "nUsgEsccLnwW"
   },
   "outputs": [],
   "source": [
    "# __init__( ) Function\n",
    "The __init__() function is called every time a class is being used to make an object. \n",
    "When we add the __init__() function in a parent class, the child class will no longer be able to inherit the parent class’s __init__() function. \n",
    "The child’s class __init__() function overrides the parent class’s __init__() function."
   ]
  },
  {
   "cell_type": "markdown",
   "metadata": {
    "id": "rfxkuc3TzofK"
   },
   "source": [
    "To demonstrate the use of inheritance, let us take an example.\n",
    "\n",
    "* A polygon is a closed figure with 3 or more sides. Say, we have a class called Polygon defined as follows."
   ]
  },
  {
   "cell_type": "code",
   "execution_count": null,
   "metadata": {
    "id": "RObBvenpzyAg"
   },
   "outputs": [],
   "source": [
    "class Polygon:\n",
    "    def __init__(self, no_of_sides):\n",
    "        self.n = no_of_sides\n",
    "        self.sides = [0 for i in range(no_of_sides)]\n",
    "\n",
    "    def inputSides(self):\n",
    "        self.sides = [float(input(\"Enter side \"+str(i+1)+\" : \")) for i in range(self.n)]\n",
    "\n",
    "    def dispSides(self):\n",
    "        for i in range(self.n):\n",
    "            print(\"Side\",i+1,\"is\",self.sides[i])"
   ]
  },
  {
   "cell_type": "markdown",
   "metadata": {
    "id": "Dw_dadptznlc"
   },
   "source": [
    "* This class has data attributes to store the number of sides n and magnitude of each side as a list called sides.\n",
    "\n",
    "* The inputSides() method takes in the magnitude of each side and dispSides() displays these side lengths.\n",
    "\n",
    "* A triangle is a polygon with 3 sides. So, we can create a class called Triangle which inherits from Polygon. This makes all the attributes of Polygon class available to the Triangle class.\n",
    "\n",
    "We don't need to define them again (code reusability). Triangle can be defined as follows."
   ]
  },
  {
   "cell_type": "code",
   "execution_count": null,
   "metadata": {
    "id": "f3L_wgyKz5jb"
   },
   "outputs": [],
   "source": [
    "class Triangle(Polygon):\n",
    "    def __init__(self):\n",
    "        Polygon.__init__(self,3)\n",
    "\n",
    "    def findArea(self):\n",
    "        a, b, c = self.sides\n",
    "        # calculate the semi-perimeter\n",
    "        s = (a + b + c) / 2\n",
    "        area = (s*(s-a)*(s-b)*(s-c)) ** 0.5\n",
    "        print('The area of the triangle is %0.2f' %area)\n",
    "\n",
    "# However, class Triangle has a new method findArea() to find and print the area of the triangle. "
   ]
  },
  {
   "cell_type": "code",
   "execution_count": null,
   "metadata": {
    "id": "SA8HXFtb2h0r"
   },
   "outputs": [],
   "source": [
    ">>> t = Triangle()\n",
    "\n",
    ">>> t.inputSides()\n",
    "# output is as  \n",
    "Enter side 1 : 3\n",
    "Enter side 2 : 5\n",
    "Enter side 3 : 4\n",
    "\n",
    ">>> t.dispSides()\n",
    "# output is as \n",
    "Side 1 is 3.0\n",
    "Side 2 is 5.0\n",
    "Side 3 is 4.0\n",
    "\n",
    ">>> t.findArea()\n",
    "# output is as \n",
    "The area of the triangle is 6.00"
   ]
  },
  {
   "cell_type": "markdown",
   "metadata": {
    "id": "VNCc36ul0kNS"
   },
   "source": [
    "We can see that *even though we did not define methods like inputSides() or dispSides()* for class Triangle separately, we were able to use them.\n",
    "\n",
    "If an attribute is not found in the class itself, the search continues to the base class. This repeats recursively, if the base class is itself derived from other classes. \n",
    "\n"
   ]
  },
  {
   "cell_type": "code",
   "execution_count": null,
   "metadata": {
    "id": "Gl8VjSK-2toL"
   },
   "outputs": [],
   "source": [
    "# Method Overriding in Python\n",
    "\n",
    "In the above example, notice that __init__() method was defined in both classes, Triangle as well Polygon. \n",
    "When this happens, the method in the derived class overrides that in the base class. \n",
    "This is to say, __init__() in Triangle gets preference over the __init__ in Polygon.\n",
    "\n",
    "Generally when overriding a base method, we tend to extend the definition rather than simply replace it. \n",
    "The same is being done by calling the method in base class from the one in derived class (calling Polygon.__init__() from __init__() in Triangle).\n",
    "\n",
    "# A better option would be to use the built-in function super(). \n",
    "So, super().__init__(3) is equivalent to Polygon.__init__(self,3) and is preferred. \n",
    "To learn more about the super() function in Python, visit Python super() function.\n",
    "\n",
    "# Two built-in functions isinstance() and issubclass() are used to check inheritances.\n",
    "\n",
    "The function isinstance() returns True if the object is an instance of the class or other classes derived from it. \n",
    "Each and every class in Python inherits from the base class object.\n",
    "\n",
    ">>> isinstance(t,Triangle)\n",
    "True\n",
    "\n",
    ">>> isinstance(t,Polygon)\n",
    "True\n",
    "\n",
    ">>> isinstance(t,int)\n",
    "False\n",
    "\n",
    ">>> isinstance(t,object)\n",
    "True\n",
    "Similarly, issubclass() is used to check for class inheritance.\n",
    "\n",
    ">>> issubclass(Polygon,Triangle)\n",
    "False\n",
    "\n",
    ">>> issubclass(Triangle,Polygon)\n",
    "True\n",
    "\n",
    ">>> issubclass(bool,int)\n",
    "True"
   ]
  },
  {
   "cell_type": "code",
   "execution_count": null,
   "metadata": {
    "colab": {
     "base_uri": "https://localhost:8080/"
    },
    "executionInfo": {
     "elapsed": 1440,
     "status": "ok",
     "timestamp": 1613742513955,
     "user": {
      "displayName": "Somaraju LD",
      "photoUrl": "",
      "userId": "06442596576645839872"
     },
     "user_tz": -330
    },
    "id": "TisA6znw8-Oa",
    "outputId": "1f4aff9d-ede8-4f5e-af5a-492527c2f346"
   },
   "outputs": [
    {
     "name": "stdout",
     "output_type": "stream",
     "text": [
      "Bird is ready\n",
      "Penguin is ready\n",
      "Penguin\n",
      "Swim faster\n",
      "Run faster\n"
     ]
    }
   ],
   "source": [
    "#Example 3: Use of Inheritance in Python\n",
    "\n",
    "class Bird:   # parent class\n",
    "    \n",
    "    def __init__(self):\n",
    "        print(\"Bird is ready\")\n",
    "\n",
    "    def whoisThis(self):\n",
    "        print(\"Bird\")\n",
    "\n",
    "    def swim(self):\n",
    "        print(\"Swim faster\")\n",
    "\n",
    "\n",
    "class Penguin(Bird):  # child class\n",
    "\n",
    "    def __init__(self):   # The child's __init__() function overrides the inheritance of the parent's __init__() function.\n",
    "        # call super() function\n",
    "        super().__init__()\n",
    "        print(\"Penguin is ready\")\n",
    "\n",
    "    def whoisThis(self):\n",
    "        print(\"Penguin\")\n",
    "\n",
    "    def run(self):\n",
    "        print(\"Run faster\")\n",
    "\n",
    "peggy = Penguin()\n",
    "peggy.whoisThis()\n",
    "peggy.swim()\n",
    "peggy.run()\n"
   ]
  },
  {
   "cell_type": "code",
   "execution_count": null,
   "metadata": {
    "id": "Mf9D-RPS9IBd"
   },
   "outputs": [],
   "source": [
    "In the above program, we created two classes i.e. Bird (parent class) and Penguin (child class). \n",
    "The child class inherits the functions of parent class. We can see this from the swim() method.\n",
    "\n",
    "Again, the child class modified the behavior of the parent class. We can see this from the whoisThis() method. \n",
    "Furthermore, we extend the functions of the parent class, by creating a new run() method.\n",
    "\n",
    "Additionally, we use the super() function inside the __init__() method. \n",
    "This allows us to run the __init__() method of the parent class inside the child class.\n"
   ]
  },
  {
   "cell_type": "code",
   "execution_count": null,
   "metadata": {
    "id": "OVlm6ZhIGAbZ"
   },
   "outputs": [],
   "source": [
    "class Person:\n",
    "  def __init__(self, fname, lname):\n",
    "    self.firstname = fname\n",
    "    self.lastname = lname\n",
    "\n",
    "  def printname(self):\n",
    "    print(self.firstname, self.lastname)\n",
    "\n",
    "# Add the __init__() function to the Student class:\n",
    "class Student(Person):\n",
    "  def __init__(self, fname, lname):\n",
    "    #add properties etc.\n",
    "# When you add the __init__() function, the child class will no longer inherit the parent's __init__() function.\n",
    "\n",
    "# Note: The child's __init__() function overrides the inheritance of the parent's __init__() function.\n",
    "\n",
    "# To keep the inheritance of the parent's __init__() function, add a call to the parent's __init__() function:\n",
    "\n",
    "class Student(Person):\n",
    "  def __init__(self, fname, lname):\n",
    "    Person.__init__(self, fname, lname)\n",
    "# Now we have successfully added the __init__() f"
   ]
  },
  {
   "cell_type": "markdown",
   "metadata": {
    "id": "dEikCiMEDuK_"
   },
   "source": [
    "### Private members of parent class \n",
    "> We don’t always want the instance variables of the parent class to be inherited by the child class i.e. we can make some of the instance variables of the parent class **private**, which **won’t be available to the child class**. \n",
    "We can make an instance variable by adding double underscores before its name. For example,"
   ]
  },
  {
   "cell_type": "code",
   "execution_count": null,
   "metadata": {
    "id": "8leIwoxiDyks"
   },
   "outputs": [],
   "source": [
    "# Python program to demonstrate private members \n",
    "# of the parent class \n",
    "class C(object): \n",
    "\tdef __init__(self): \n",
    "\t\t\tself.c = 21\n",
    "\n",
    "\t\t\t# d is private instance variable \n",
    "\t\t\tself.__d = 42\t\n",
    "class D(C): \n",
    "\tdef __init__(self): \n",
    "\t\t\tself.e = 84\n",
    "\t\t\tC.__init__(self) \n",
    "object1 = D() \n",
    "\n",
    "# produces an error as d is private instance variable \n",
    "print(object1.d)\t\t\t\t\t \n",
    "\n",
    "# Since ‘d’ is made private by those underscores, it is not available to the child class ‘D’ and hence the error."
   ]
  },
  {
   "cell_type": "markdown",
   "metadata": {
    "id": "bZKW8MK7_02e"
   },
   "source": [
    "# Types of Inheritance in Python \n",
    "\n",
    "1. **Single inheritance:** When a child class inherits from only one parent class, it is called single inheritance. We saw an example above.\n",
    "2. **Multiple inheritance:** When a child class inherits from multiple parent classes, it is called multiple inheritance. \n",
    "3. **Multilevel inheritance:** When we have a child and grandchild relationship.\n",
    "4. Hierarchical inheritance More than one derived classes are created from a single base.\n",
    "\n",
    "5. **Hybrid inheritance:** This form combines more than one form of inheritance. Basically, it is a blend of more than one type of inheritance.\n",
    "\n",
    "![](https://d1jnx9ba8s6j9r.cloudfront.net/blog/wp-content/uploads/2019/07/inheritance.png)"
   ]
  },
  {
   "cell_type": "markdown",
   "metadata": {
    "id": "Ukk3IM2XAjB9"
   },
   "source": [
    "**Single Inheritance:** \n",
    "> Single inheritance enables a derived class to inherit properties from a single parent class, thus enabling code reusability and the addition of new features to existing code.\n",
    "\n",
    "<img src = \"https://media.geeksforgeeks.org/wp-content/uploads/20200108135809/inheritance11.png\" width = \"300px\" height = \"200px\">"
   ]
  },
  {
   "cell_type": "code",
   "execution_count": 4,
   "metadata": {
    "id": "146arh7eAm-U"
   },
   "outputs": [
    {
     "name": "stdout",
     "output_type": "stream",
     "text": [
      "This function is in parent class.\n",
      "This function is in child class.\n"
     ]
    }
   ],
   "source": [
    "# Python program to demonstrate single inheritance\n",
    "\n",
    "# Base class\n",
    "class Parent:\n",
    "\tdef func1(self):\n",
    "\t\tprint(\"This function is in parent class.\")\n",
    "\n",
    "# Derived class\n",
    "class Child(Parent):\n",
    "\tdef func2(self):\n",
    "\t\tprint(\"This function is in child class.\")\n",
    "\n",
    "# Driver's code\n",
    "object = Child()\n",
    "object.func1()\n",
    "object.func2()\n"
   ]
  },
  {
   "cell_type": "markdown",
   "metadata": {
    "id": "TRZvbzPOAsMc"
   },
   "source": [
    "Multiple Inheritance: \n",
    "> When a class can be derived from more than one base class this type of inheritance is called multiple inheritance. In multiple inheritance, all the features of the base classes are inherited into the derived class. \n",
    "\n",
    "<img src = \"https://media.geeksforgeeks.org/wp-content/uploads/20200108144424/multiple-inheritance1.png\" width = \"300px\" height = \"200px\">\n",
    "\n",
    "\n"
   ]
  },
  {
   "cell_type": "code",
   "execution_count": 1,
   "metadata": {
    "id": "3l2XKaj0B-ra"
   },
   "outputs": [
    {
     "name": "stdout",
     "output_type": "stream",
     "text": [
      "Father : RAM\n",
      "Mother : SITA\n"
     ]
    }
   ],
   "source": [
    "# Python program to demonstrate\n",
    "# multiple inheritance\n",
    "\n",
    "\n",
    "# Base class1\n",
    "# first parent class\n",
    "class Mother:\n",
    "\tmothername = \"\"\n",
    "\tdef mother(self):\n",
    "\t\tprint(self.mothername)\n",
    "\n",
    "# Base class2\n",
    "# second parent class\n",
    "class Father:\n",
    "\tfathername = \"\"\n",
    "\tdef father(self):\n",
    "\t\tprint(self.fathername)\n",
    "\n",
    "# Derived class\n",
    "class Son(Mother, Father):\n",
    "\tdef parents(self):\n",
    "\t\tprint(\"Father :\", self.fathername)\n",
    "\t\tprint(\"Mother :\", self.mothername)\n",
    "\n",
    "# Driver's code\n",
    "s1 = Son()\n",
    "s1.fathername = \"RAM\"\n",
    "s1.mothername = \"SITA\"\n",
    "s1.parents()\n"
   ]
  },
  {
   "cell_type": "markdown",
   "metadata": {
    "id": "rUGXJEVRB3_Y"
   },
   "source": [
    "Multilevel Inheritance \n",
    "> In multilevel inheritance, features of the base class and the derived class are further inherited into the new derived class. This is similar to a relationship representing a child and grandfather. \n",
    "\n",
    "<img src = \"https://media.geeksforgeeks.org/wp-content/uploads/20200108144705/Multilevel-inheritance1.png\" width = \"300px\" height = \"200px\" center >"
   ]
  },
  {
   "cell_type": "code",
   "execution_count": 2,
   "metadata": {
    "id": "P-2Br8Y1EHwX"
   },
   "outputs": [
    {
     "name": "stdout",
     "output_type": "stream",
     "text": [
      "Lal mani\n",
      "Grandfather name : Lal mani\n",
      "Father name : Rampal\n",
      "Son name : Prince\n"
     ]
    }
   ],
   "source": [
    "# Python program to demonstrate\n",
    "# multilevel inheritance\n",
    "\n",
    "# Base class\n",
    "class Grandfather:\n",
    "\n",
    "\tdef __init__(self, grandfathername):\n",
    "\t\tself.grandfathername = grandfathername\n",
    "\n",
    "# Intermediate class\n",
    "class Father(Grandfather):\n",
    "\tdef __init__(self, fathername, grandfathername):\n",
    "\t\tself.fathername = fathername\n",
    "\n",
    "\t\t# invoking constructor of Grandfather class\n",
    "\t\tGrandfather.__init__(self, grandfathername)\n",
    "\n",
    "# Derived class\n",
    "class Son(Father):\n",
    "\tdef __init__(self,sonname, fathername, grandfathername):\n",
    "\t\tself.sonname = sonname\n",
    "\n",
    "\t\t# invoking constructor of Father class\n",
    "\t\tFather.__init__(self, fathername, grandfathername)\n",
    "\n",
    "\tdef print_name(self):\n",
    "\t\tprint('Grandfather name :', self.grandfathername)\n",
    "\t\tprint(\"Father name :\", self.fathername)\n",
    "\t\tprint(\"Son name :\", self.sonname)\n",
    "\n",
    "# Driver code\n",
    "s1 = Son('Prince', 'Rampal', 'Lal mani')\n",
    "print(s1.grandfathername)\n",
    "s1.print_name()\n"
   ]
  },
  {
   "cell_type": "markdown",
   "metadata": {
    "id": "oLEXdAEAFDLl"
   },
   "source": [
    "Hierarchical Inheritance: \n",
    "> When more than one derived classes are created from a single base this type of inheritance is called hierarchical inheritance. In this program, we have a parent (base) class and two child (derived) classes.\n",
    "\n",
    "<img src = \"https://media.geeksforgeeks.org/wp-content/uploads/20200108144705/Multilevel-inheritance1.png\" width = \"300px\" height = \"200px\" >\n"
   ]
  },
  {
   "cell_type": "code",
   "execution_count": null,
   "metadata": {
    "id": "HHFFbsndFBke"
   },
   "outputs": [],
   "source": [
    "# Python program to demonstrate Hierarchical inheritance\n",
    "\n",
    "# Base class\n",
    "class Parent:\n",
    "\tdef func1(self):\n",
    "\t\tprint(\"This function is in parent class.\")\n",
    "\n",
    "# Derived class1\n",
    "class Child1(Parent):\n",
    "\tdef func2(self):\n",
    "\t\tprint(\"This function is in child 1.\")\n",
    "\n",
    "# Derivied class2\n",
    "class Child2(Parent):\n",
    "\tdef func3(self):\n",
    "\t\tprint(\"This function is in child 2.\")\n",
    "\n",
    "# Driver's code\n",
    "object1 = Child1()\n",
    "object2 = Child2()\n",
    "object1.func1()\n",
    "object1.func2()\n",
    "object2.func1()\n",
    "object2.func3()\n"
   ]
  },
  {
   "cell_type": "markdown",
   "metadata": {
    "id": "3AUlPPPIHBIe"
   },
   "source": [
    "Hybrid Inheritance: \n",
    "> Inheritance consisting of multiple types of inheritance is called hybrid inheritance.\n",
    "\n",
    "The term Hybrid describes that it is a mixture of more than one type.\n",
    "\n",
    "Hybrid inheritance is a combination of different types of inheritance.\n",
    "\n",
    "![](https://techvidvan.com/tutorials/wp-content/uploads/sites/2/2020/01/hybrid-inheritance-in-python.jpg)  <img src = \"https://i1.faceprep.in/Companies-1/inheritance-sixth.png\" height = \"400px\" width = \"400px\">"
   ]
  },
  {
   "cell_type": "code",
   "execution_count": null,
   "metadata": {
    "id": "lV5vHGrOHuP-"
   },
   "outputs": [],
   "source": [
    "# Python program to demonstrate hybrid inheritance\n",
    "\n",
    "class School:\n",
    "\tdef func1(self):\n",
    "\t\tprint(\"This function is in school.\")\n",
    "\n",
    "class Student1(School):\n",
    "\tdef func2(self):\n",
    "\t\tprint(\"This function is in student 1. \")\n",
    "\n",
    "class Student2(School):\n",
    "\tdef func3(self):\n",
    "\t\tprint(\"This function is in student 2.\")\n",
    "\n",
    "class Student3(Student1, School):\n",
    "\tdef func4(self):\n",
    "\t\tprint(\"This function is in student 3.\")\n",
    "\n",
    "# Driver's code\n",
    "object = Student3()\n",
    "object.func1()\n",
    "object.func2()\n"
   ]
  },
  {
   "cell_type": "markdown",
   "metadata": {
    "id": "J2J_FbHpQXs4"
   },
   "source": [
    "## Method Resolution Order in Python\n",
    "Every class in Python is derived from the object class. It is the most base type in Python.\n",
    "\n",
    "So technically, all other classes, either built-in or user-defined, are derived classes and all objects are instances of the object class.\n",
    "\n",
    "```\n",
    "# Output: True\n",
    "print(issubclass(list,object))\n",
    "\n",
    "# Output: True\n",
    "print(isinstance(5.5,object))\n",
    "\n",
    "# Output: True\n",
    "print(isinstance(\"Hello\",object))\n",
    "```\n",
    "\n",
    "In the multiple inheritance scenario, any specified attribute is searched first in the current class. If not found, the search continues into parent classes in depth-first, left-right fashion without searching the same class twice.\n",
    "\n",
    "```\n",
    "class Base1:\n",
    "    pass\n",
    "\n",
    "class Base2:\n",
    "    pass\n",
    "\n",
    "class MultiDerived(Base1, Base2):\n",
    "    pass\n",
    "```\n",
    "\n",
    "So, in the above example of MultiDerived class the search order is [MultiDerived, Base1, Base2, object]. This order is also called linearization of MultiDerived class and the set of rules used to find this order is called Method Resolution Order (MRO).\n",
    "\n",
    "MRO must prevent local precedence ordering and also provide monotonicity. It ensures that a class always appears before its parents. In case of multiple parents, the order is the same as tuples of base classes.\n",
    "\n",
    "MRO of a class can be viewed as the ```__mro__``` attribute or the **mro() method**. The former returns a tuple while the latter returns a list.\n",
    "\n",
    "\n",
    "\n",
    "```\n",
    ">>> MultiDerived.__mro__\n",
    "(<class '__main__.MultiDerived'>,\n",
    " <class '__main__.Base1'>,\n",
    " <class '__main__.Base2'>,\n",
    " <class 'object'>)\n",
    "\n",
    ">>> MultiDerived.mro()\n",
    "[<class '__main__.MultiDerived'>,\n",
    " <class '__main__.Base1'>,\n",
    " <class '__main__.Base2'>,\n",
    " <class 'object'>]\n",
    "```\n",
    "\n",
    "Here is a little more complex multiple inheritance example and its visualization along with the MRO.\n",
    "\n",
    " <img src = \"https://cdn.programiz.com/sites/tutorial2program/files/MRO.jpg\" height = \"400px\" width = \"400px\">\n",
    "\n",
    "\n",
    "\n",
    "\n"
   ]
  },
  {
   "cell_type": "code",
   "execution_count": null,
   "metadata": {
    "colab": {
     "base_uri": "https://localhost:8080/"
    },
    "executionInfo": {
     "elapsed": 2579,
     "status": "ok",
     "timestamp": 1614006433386,
     "user": {
      "displayName": "Somaraju LD",
      "photoUrl": "",
      "userId": "06442596576645839872"
     },
     "user_tz": -330
    },
    "id": "YUFDvNtTR2p_",
    "outputId": "5eb7ab8c-88c9-4d24-da0c-05eb63645771"
   },
   "outputs": [
    {
     "name": "stdout",
     "output_type": "stream",
     "text": [
      "[<class '__main__.M'>, <class '__main__.B'>, <class '__main__.A'>, <class '__main__.X'>, <class '__main__.Y'>, <class '__main__.Z'>, <class 'object'>]\n"
     ]
    }
   ],
   "source": [
    "# Demonstration of MRO\n",
    "\n",
    "class X:\n",
    "    pass\n",
    "\n",
    "class Y:\n",
    "    pass\n",
    "\n",
    "class Z:\n",
    "    pass\n",
    "\n",
    "class A(X, Y):\n",
    "    pass\n",
    "\n",
    "class B(Y, Z):\n",
    "    pass\n",
    "\n",
    "class M(B, A, Z):\n",
    "    pass\n",
    "\n",
    "# Output:\n",
    "# [<class '__main__.M'>, <class '__main__.B'>,\n",
    "#  <class '__main__.A'>, <class '__main__.X'>,\n",
    "#  <class '__main__.Y'>, <class '__main__.Z'>,\n",
    "#  <class 'object'>]\n",
    "\n",
    "print(M.mro())"
   ]
  },
  {
   "cell_type": "code",
   "execution_count": null,
   "metadata": {
    "colab": {
     "base_uri": "https://localhost:8080/"
    },
    "executionInfo": {
     "elapsed": 877,
     "status": "ok",
     "timestamp": 1615117980313,
     "user": {
      "displayName": "Somaraju LD",
      "photoUrl": "",
      "userId": "06442596576645839872"
     },
     "user_tz": -330
    },
    "id": "IJ22R5VMh527",
    "outputId": "b096c592-ec76-4b31-ac23-3ee6c0420c5a"
   },
   "outputs": [
    {
     "name": "stdout",
     "output_type": "stream",
     "text": [
      "Help on child1 in module __main__ object:\n",
      "\n",
      "class child1(parent)\n",
      " |  Method resolution order:\n",
      " |      child1\n",
      " |      parent\n",
      " |      builtins.object\n",
      " |  \n",
      " |  Data descriptors inherited from parent:\n",
      " |  \n",
      " |  __dict__\n",
      " |      dictionary for instance variables (if defined)\n",
      " |  \n",
      " |  __weakref__\n",
      " |      list of weak references to the object (if defined)\n",
      "\n"
     ]
    }
   ],
   "source": [
    "class parent():\n",
    "  pass\n",
    "\n",
    "class child1(parent):\n",
    "  pass\n",
    "\n",
    "x = child1()\n",
    "\n",
    "help(x)"
   ]
  },
  {
   "cell_type": "code",
   "execution_count": null,
   "metadata": {
    "colab": {
     "base_uri": "https://localhost:8080/"
    },
    "executionInfo": {
     "elapsed": 891,
     "status": "ok",
     "timestamp": 1615118099910,
     "user": {
      "displayName": "Somaraju LD",
      "photoUrl": "",
      "userId": "06442596576645839872"
     },
     "user_tz": -330
    },
    "id": "cFlE0E9GiRbr",
    "outputId": "e604d72d-be35-419f-e461-8acd11fd4a0d"
   },
   "outputs": [
    {
     "name": "stdout",
     "output_type": "stream",
     "text": [
      "Help on child1 in module __main__ object:\n",
      "\n",
      "class child1(parent)\n",
      " |  Method resolution order:\n",
      " |      child1\n",
      " |      parent\n",
      " |      builtins.object\n",
      " |  \n",
      " |  Data and other attributes defined here:\n",
      " |  \n",
      " |  child1name = 'python'\n",
      " |  \n",
      " |  ----------------------------------------------------------------------\n",
      " |  Data descriptors inherited from parent:\n",
      " |  \n",
      " |  __dict__\n",
      " |      dictionary for instance variables (if defined)\n",
      " |  \n",
      " |  __weakref__\n",
      " |      list of weak references to the object (if defined)\n",
      " |  \n",
      " |  ----------------------------------------------------------------------\n",
      " |  Data and other attributes inherited from parent:\n",
      " |  \n",
      " |  name = 'programing language'\n",
      "\n"
     ]
    }
   ],
   "source": [
    "class parent():\n",
    "  name = \"programing language\"\n",
    "\n",
    "class child1(parent):\n",
    "  child1name = \"python\"\n",
    "  pass\n",
    "\n",
    "x = child1()\n",
    "\n",
    "help(x)"
   ]
  },
  {
   "cell_type": "markdown",
   "metadata": {
    "id": "EXjBb3-64FR8"
   },
   "source": [
    "## To know more: \n",
    "\n",
    "* https://techvidvan.com/tutorials/python-inheritance/ \n",
    " * https://techvidvan.com/tutorials/multiple-inheritance-in-python/\n",
    "\n",
    "* https://www.faceprep.in/python/inheritance-in-python/\n",
    "\n",
    "* https://www.edureka.co/blog/inheritance-in-python/\n",
    "\n",
    "* https://www.programiz.com/python-programming/inheritance \n",
    "\n",
    "* https://www.geeksforgeeks.org/inheritance-in-python/?ref=lbp \n",
    " * https://www.geeksforgeeks.org/multiple-inheritance-in-python/?ref=rp\n",
    " * https://www.geeksforgeeks.org/method-resolution-order-in-python-inheritance/?ref=rp \n",
    "\n",
    "* https://realpython.com/inheritance-composition-python/ \n",
    "\n",
    "* https://www.tutorialsteacher.com/python/inheritance-in-python\n"
   ]
  }
 ],
 "metadata": {
  "colab": {
   "authorship_tag": "ABX9TyOZTH5hTWuB8s1oSKCmuAJC",
   "collapsed_sections": [],
   "name": "5.1 Inheritance_LI .ipynb",
   "provenance": []
  },
  "kernelspec": {
   "display_name": "Python 3 (ipykernel)",
   "language": "python",
   "name": "python3"
  },
  "language_info": {
   "codemirror_mode": {
    "name": "ipython",
    "version": 3
   },
   "file_extension": ".py",
   "mimetype": "text/x-python",
   "name": "python",
   "nbconvert_exporter": "python",
   "pygments_lexer": "ipython3",
   "version": "3.10.9"
  }
 },
 "nbformat": 4,
 "nbformat_minor": 1
}
